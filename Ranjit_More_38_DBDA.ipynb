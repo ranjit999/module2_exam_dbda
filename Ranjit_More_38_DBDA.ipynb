{
  "nbformat": 4,
  "nbformat_minor": 0,
  "metadata": {
    "colab": {
      "name": "Ranjit_More_38_DBDA.ipynb",
      "provenance": []
    },
    "kernelspec": {
      "name": "python3",
      "display_name": "Python 3"
    },
    "language_info": {
      "name": "python"
    }
  },
  "cells": [
    {
      "cell_type": "code",
      "source": [
        ""
      ],
      "metadata": {
        "id": "SoJwY5Cj3CZg"
      },
      "execution_count": null,
      "outputs": []
    },
    {
      "cell_type": "code",
      "execution_count": 1,
      "metadata": {
        "id": "z9yYbKgbdRm1"
      },
      "outputs": [],
      "source": [
        "# Convert given hrs & mins in second"
      ]
    },
    {
      "cell_type": "code",
      "source": [
        "def conv(hrs,min):\n",
        "  total_sec = 0\n",
        "  hrs_sec = hrs * 3600\n",
        "  min_sec = min * 60  \n",
        "\n",
        "  total_sec = hrs_sec + min_sec\n",
        "\n",
        "  return total_sec\n",
        "conv(hrs=int(input(\"Enter number of hours : \")),min=int(input(\"Enter number of minutes :\")))"
      ],
      "metadata": {
        "colab": {
          "base_uri": "https://localhost:8080/"
        },
        "id": "Cy3-Etgnl5Fn",
        "outputId": "536b1696-fe3e-4c46-8f24-1f06b7b6098a"
      },
      "execution_count": 2,
      "outputs": [
        {
          "name": "stdout",
          "output_type": "stream",
          "text": [
            "Enter number of hours : 1\n",
            "Enter number of minutes :10\n"
          ]
        },
        {
          "output_type": "execute_result",
          "data": {
            "text/plain": [
              "4200"
            ]
          },
          "metadata": {},
          "execution_count": 2
        }
      ]
    },
    {
      "cell_type": "code",
      "source": [
        ""
      ],
      "metadata": {
        "id": "XmAtZrw-m_sc"
      },
      "execution_count": null,
      "outputs": []
    },
    {
      "cell_type": "code",
      "source": [
        "# Write code to find the average of ‘n’\n",
        "# numbers entered by the user to function avg ( ).\n",
        "# Ex: avg (10, 20, 30, 40) => average is: 70\n",
        "# avg (5, 10, 15) => average is: 10"
      ],
      "metadata": {
        "id": "Ano2iH0Am3e_"
      },
      "execution_count": 3,
      "outputs": []
    },
    {
      "cell_type": "code",
      "source": [
        "n1 = int(input(\"Enter the total numbers : \"))\n",
        "\n",
        "sum = 0\n",
        "\n",
        "for i in range(n1):\n",
        "\n",
        "  var1 = int(input(\"Number : \"))\n",
        "\n",
        "  sum = sum + var1\n",
        "avg = sum / n1\n",
        "\n",
        "print(\"Average is :\",avg)"
      ],
      "metadata": {
        "colab": {
          "base_uri": "https://localhost:8080/"
        },
        "id": "tFjYwNyhnB2F",
        "outputId": "7a1b0696-4ca3-4b62-d57e-a8f9c6033edd"
      },
      "execution_count": 35,
      "outputs": [
        {
          "output_type": "stream",
          "name": "stdout",
          "text": [
            "Enter the total numbers : 3\n",
            "Number : 5\n",
            "Number : 10\n",
            "Number : 15\n",
            "Average is : 10.0\n"
          ]
        }
      ]
    },
    {
      "cell_type": "code",
      "source": [
        ""
      ],
      "metadata": {
        "id": "i_TJxtkduwgr"
      },
      "execution_count": null,
      "outputs": []
    },
    {
      "cell_type": "code",
      "source": [
        ""
      ],
      "metadata": {
        "id": "BOxjcqlUngz3"
      },
      "execution_count": null,
      "outputs": []
    },
    {
      "cell_type": "code",
      "source": [
        "# Write a code to accept a number & print\n",
        "# in words.\n",
        "# Ex: 123\n",
        "# Three\n",
        "# Two\n",
        "# One"
      ],
      "metadata": {
        "id": "nyM_TazKo1i0"
      },
      "execution_count": 9,
      "outputs": []
    },
    {
      "cell_type": "code",
      "source": [
        "dict1 = {\n",
        "    '1' : \"One\",\n",
        "    '2' : \"Two\",\n",
        "    '3' : \"Three\",\n",
        "    '4' : \"Four\",\n",
        "    '5' : \"Five\",\n",
        "    '6' : \"Six\",\n",
        "    '7' : \"Seven\",\n",
        "    '8' : \"Eight\",\n",
        "    '9' : \"Nine\",\n",
        "    '0' : \"Zero\"\n",
        "}\n",
        "\n",
        "var1 = input(\"Enter the number : \")\n",
        "\n",
        "for i in var1:\n",
        "  print(dict1[i],\"\\n\") \n",
        "  "
      ],
      "metadata": {
        "colab": {
          "base_uri": "https://localhost:8080/"
        },
        "id": "m-mMQurSo3B7",
        "outputId": "3666fb54-59cd-4f55-e367-f25362f422a2"
      },
      "execution_count": 12,
      "outputs": [
        {
          "output_type": "stream",
          "name": "stdout",
          "text": [
            "Enter the number : 567\n",
            "Five \n",
            "\n",
            "Six \n",
            "\n",
            "Seven \n",
            "\n"
          ]
        }
      ]
    },
    {
      "cell_type": "code",
      "source": [
        ""
      ],
      "metadata": {
        "id": "MezfZIS6p9H4"
      },
      "execution_count": null,
      "outputs": []
    },
    {
      "cell_type": "code",
      "source": [
        "#  Create class"
      ],
      "metadata": {
        "id": "D55Q3PBlqJt5"
      },
      "execution_count": 13,
      "outputs": []
    },
    {
      "cell_type": "code",
      "source": [
        "class Maths:\n",
        "  def __init__(self,a,b):\n",
        "    self.a = a\n",
        "    self.b = b\n",
        "  \n",
        "  def add(self):\n",
        "    return self.a + self.b\n",
        "  \n",
        "  def div(self):\n",
        "    return self.a / self.b\n",
        "  \n",
        "  def sub(self):\n",
        "    return self.a - self.b\n",
        "  \n",
        "  def mul(self):\n",
        "    return self.a * self.b\n",
        "  \n",
        "  def display(self):\n",
        "    print('Sum of nums is : ',self.add())\n",
        "    print('Div is : ',self.div())\n",
        "    print(\"Sub is : \", self.sub())\n",
        "    print(\"Mul is : \",self.mul())\n",
        "m1 = Maths(10,5)\n",
        "m1.display()"
      ],
      "metadata": {
        "colab": {
          "base_uri": "https://localhost:8080/"
        },
        "id": "eMefeMEJqRWm",
        "outputId": "7bb30def-5c74-4cdf-db62-bebd39bf3fe7"
      },
      "execution_count": 21,
      "outputs": [
        {
          "output_type": "stream",
          "name": "stdout",
          "text": [
            "Sum of nums is :  15\n",
            "Div is :  2.0\n",
            "Sub is :  5\n",
            "Mul is :  50\n"
          ]
        }
      ]
    },
    {
      "cell_type": "code",
      "source": [
        ""
      ],
      "metadata": {
        "id": "dH3nrteQq4eO"
      },
      "execution_count": null,
      "outputs": []
    },
    {
      "cell_type": "code",
      "source": [
        "# Convert Paise in Rupees &\n",
        "# Paises\n",
        "# Ex: 350 is 3 Rupees 50 Paise\n",
        "# 3.50 print Rupees: 3\n",
        "# Paise: 50"
      ],
      "metadata": {
        "id": "7UkqgQmKruwa"
      },
      "execution_count": 22,
      "outputs": []
    },
    {
      "cell_type": "code",
      "source": [
        "def conv(rps):\n",
        "  total_amt = 0\n",
        "  rps1 = 0\n",
        "  rps2 = 0\n",
        "  \n",
        "  rps1 = rps // 100\n",
        "  rps2 = rps % 100\n",
        "\n",
        "  return f\"Rupees {rps1}, paise {rps2}\"\n",
        "\n",
        "  \n",
        "conv(rps = int(input(\"Enter the amount :\")))"
      ],
      "metadata": {
        "colab": {
          "base_uri": "https://localhost:8080/",
          "height": 53
        },
        "id": "VFQ56H8Tr1aG",
        "outputId": "4317b86d-e153-4c79-918c-dec4c43718fd"
      },
      "execution_count": 23,
      "outputs": [
        {
          "name": "stdout",
          "output_type": "stream",
          "text": [
            "Enter the amount :350\n"
          ]
        },
        {
          "output_type": "execute_result",
          "data": {
            "text/plain": [
              "'Rupees 3, paise 50'"
            ],
            "application/vnd.google.colaboratory.intrinsic+json": {
              "type": "string"
            }
          },
          "metadata": {},
          "execution_count": 23
        }
      ]
    },
    {
      "cell_type": "code",
      "source": [
        ""
      ],
      "metadata": {
        "id": "zjJ1xwPYsmQY"
      },
      "execution_count": null,
      "outputs": []
    },
    {
      "cell_type": "code",
      "source": [
        "# Accept String & print only alternate\n",
        "# characters on a string."
      ],
      "metadata": {
        "id": "dn9HeRkzsssU"
      },
      "execution_count": 24,
      "outputs": []
    },
    {
      "cell_type": "code",
      "source": [
        "var1 = input(\"Enter the string here\")\n",
        "lng = len(var1)\n",
        "\n",
        "for i in range(0,lng-1,2):\n",
        "  print(var1[i],end=\"_\")\n",
        "\n"
      ],
      "metadata": {
        "colab": {
          "base_uri": "https://localhost:8080/"
        },
        "id": "umyxe5atsty5",
        "outputId": "d9328ac9-c9ea-489c-dc9d-a7e9b26e1a5c"
      },
      "execution_count": 25,
      "outputs": [
        {
          "output_type": "stream",
          "name": "stdout",
          "text": [
            "Enter the string hereHelloThisIsMe\n",
            "H_l_o_h_s_s_"
          ]
        }
      ]
    },
    {
      "cell_type": "code",
      "source": [
        ""
      ],
      "metadata": {
        "id": "XWhJWlEEtKof"
      },
      "execution_count": null,
      "outputs": []
    },
    {
      "cell_type": "code",
      "source": [
        "Create menu driven code for\n",
        "1) Accept 2 numbers\n",
        "2) Add\n",
        "3) Sub\n",
        "4) Mul\n",
        "5) Div"
      ],
      "metadata": {
        "id": "7QMRffkEtX6p"
      },
      "execution_count": 26,
      "outputs": []
    },
    {
      "cell_type": "code",
      "source": [
        "while True:\n",
        "  var1 = input('''1) Accept 2 numbers\n",
        "2) Add\n",
        "3) Sub\n",
        "4) Mul\n",
        "5) Div\n",
        "Enter choice :- ''')\n",
        "  if var1==\"1\":\n",
        "    a = int(input(\"num1\"))\n",
        "    b = int(input(\"num2\"))\n",
        "  \n",
        "  elif var1 == \"2\":\n",
        "    print(\"Sum :- \",a+b)\n",
        "  \n",
        "  elif var1 == \"3\":\n",
        "    print(\"Sub :- \",a-b)\n",
        "  \n",
        "  elif var1 == \"4\":\n",
        "    print(\"Mul :- \",a*b)\n",
        "\n",
        "  elif var1==\"5\":\n",
        "    print(\"Div :-\",a/b)"
      ],
      "metadata": {
        "colab": {
          "base_uri": "https://localhost:8080/"
        },
        "id": "-ThpAZmLtZsq",
        "outputId": "afe44ac7-0a97-4a6a-8bef-0524ed6d11a4"
      },
      "execution_count": null,
      "outputs": [
        {
          "output_type": "stream",
          "name": "stdout",
          "text": [
            "1) Accept 2 numbers\n",
            "2) Add\n",
            "3) Sub\n",
            "4) Mul\n",
            "5) Div\n",
            "Enter choice :- 1\n",
            "num110\n",
            "num25\n",
            "1) Accept 2 numbers\n",
            "2) Add\n",
            "3) Sub\n",
            "4) Mul\n",
            "5) Div\n",
            "Enter choice :- 2\n",
            "Sum :-  15\n",
            "1) Accept 2 numbers\n",
            "2) Add\n",
            "3) Sub\n",
            "4) Mul\n",
            "5) Div\n",
            "Enter choice :- 3\n",
            "Sub :-  5\n"
          ]
        }
      ]
    },
    {
      "cell_type": "code",
      "source": [
        "#  Print\n",
        "# 1\n",
        "# 0 1\n",
        "# 0 1 0\n",
        "# 1 0 1 0\n",
        "# 1 0 1 0 1"
      ],
      "metadata": {
        "id": "_pZWIqATuynf"
      },
      "execution_count": null,
      "outputs": []
    },
    {
      "cell_type": "code",
      "source": [
        "for i in range(1,6):\n",
        "  for j in range(1,i+1):\n",
        "    print(j%2,end=\" \")\n",
        "  print()"
      ],
      "metadata": {
        "colab": {
          "base_uri": "https://localhost:8080/"
        },
        "id": "bSvtadsXuzny",
        "outputId": "ffcee084-09c0-4411-e140-c64047aab33d"
      },
      "execution_count": 36,
      "outputs": [
        {
          "output_type": "stream",
          "name": "stdout",
          "text": [
            "1 \n",
            "1 0 \n",
            "1 0 1 \n",
            "1 0 1 0 \n",
            "1 0 1 0 1 \n"
          ]
        }
      ]
    },
    {
      "cell_type": "code",
      "source": [
        ""
      ],
      "metadata": {
        "id": "rKe2yYQKvNYd"
      },
      "execution_count": null,
      "outputs": []
    }
  ]
}